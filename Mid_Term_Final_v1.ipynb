{
  "nbformat": 4,
  "nbformat_minor": 0,
  "metadata": {
    "colab": {
      "name": "Mid Term - Light Version v2.ipynb",
      "provenance": [],
      "collapsed_sections": [],
      "machine_shape": "hm",
      "authorship_tag": "ABX9TyN+c0ZsIFhYkxCgQH4krD58"
    },
    "kernelspec": {
      "name": "python3",
      "display_name": "Python 3"
    },
    "language_info": {
      "name": "python"
    }
  },
  "cells": [
    {
      "cell_type": "code",
      "metadata": {
        "colab": {
          "base_uri": "https://localhost:8080/"
        },
        "id": "B7NtcKNLVEqM",
        "outputId": "ea8c8b2f-5671-4e42-f354-3563417dde27"
      },
      "source": [
        "import numpy as np\n",
        "import pandas as pd\n",
        "from datetime import datetime, timezone\n",
        "import time\n",
        "import pytz\n",
        "from sqlalchemy import create_engine\n",
        "from oauth2client.client import GoogleCredentials\n",
        "from google.colab import drive\n",
        "from google.colab import auth\n",
        "auth.authenticate_user()\n",
        "import gspread\n",
        "\n",
        "\n",
        "zone_mtl = pytz.timezone('America/Montreal')\n",
        "date_mtl = datetime.now(zone_mtl)\n",
        "date_mtl\n",
        "gs_row=1\n",
        "gs_col=1\n",
        "\n",
        "\n",
        "\n",
        "gc = gspread.authorize(GoogleCredentials.get_application_default())\n",
        "wb = gc.open_by_url('https://docs.google.com/spreadsheets/d/1C5CKkVvInTiP9XRtuSjjgvSDu-a7RNgwhNQtjAYrWXI/edit#gid=0')\n",
        "worksheet = wb.add_worksheet(title='LOG-'+str(date_mtl), rows=\"100\", cols=\"20\")\n",
        "\n",
        "\n",
        "drive.mount('/gdrive') # you may have to authentificate , follow the process of the browser window\n",
        "#change this\n",
        "# file_path = '/gdrive/MyDrive/lhl/Mid_Term/flights_2019.csv'\n",
        "training_file_path ='/gdrive/MyDrive/lhl/Mid_Term/flights_18-19_OCT_NOV_DEC_RIGHT_BEFORE_TRAINING.csv'\n",
        "test_file_path = '/gdrive/MyDrive/lhl/Mid_Term/flights_test_final_df.csv'\n",
        "# df = pd.read_csv(file_path,header=0,skiprows=range(1,6000000),nrows=3000000)\n",
        "df = pd.read_csv(training_file_path,index_col=0)#\n",
        "df_test = pd.read_csv(test_file_path,index_col=0)#\n"
      ],
      "execution_count": 1,
      "outputs": [
        {
          "output_type": "stream",
          "name": "stdout",
          "text": [
            "Mounted at /gdrive\n"
          ]
        },
        {
          "output_type": "stream",
          "name": "stderr",
          "text": [
            "/usr/local/lib/python3.7/dist-packages/numpy/lib/arraysetops.py:580: FutureWarning: elementwise comparison failed; returning scalar instead, but in the future will perform elementwise comparison\n",
            "  mask |= (ar1 == a)\n"
          ]
        }
      ]
    },
    {
      "cell_type": "code",
      "metadata": {
        "id": "zFpdtWcbqhuB"
      },
      "source": [
        "filter_forDF_withDelay=['destPrecipMM','origPrecipMM','dayofweek_num','origVisibility','destVisibility','origAvgTempC','destAvgTempC','dest_airport_id','origin_airport_id','tail_num','distance',\"crs_dep_time\",'arr_delay']\n",
        "df_test=df_test[['destPrecipMM','origPrecipMM','dayofweek_num','origVisibility','destVisibility','origAvgTempC','destAvgTempC','dest_airport_id','origin_airport_id','tail_num','distance',\"crs_dep_time\"]]"
      ],
      "execution_count": null,
      "outputs": []
    },
    {
      "cell_type": "code",
      "metadata": {
        "id": "9s8FkmBZRSdo"
      },
      "source": [
        "df=df[filter_forDF_withDelay]"
      ],
      "execution_count": 2,
      "outputs": []
    },
    {
      "cell_type": "code",
      "metadata": {
        "colab": {
          "base_uri": "https://localhost:8080/"
        },
        "id": "a3eNHTcXRgu0",
        "outputId": "d4ebf68b-14bb-45a7-af8f-e122054452af"
      },
      "source": [
        "df.info()"
      ],
      "execution_count": 3,
      "outputs": [
        {
          "output_type": "stream",
          "name": "stdout",
          "text": [
            "<class 'pandas.core.frame.DataFrame'>\n",
            "Int64Index: 2587145 entries, 0 to 2587144\n",
            "Data columns (total 13 columns):\n",
            " #   Column             Dtype  \n",
            "---  ------             -----  \n",
            " 0   destPrecipMM       float64\n",
            " 1   origPrecipMM       float64\n",
            " 2   dayofweek_num      int64  \n",
            " 3   origVisibility     int64  \n",
            " 4   destVisibility     int64  \n",
            " 5   origAvgTempC       int64  \n",
            " 6   destAvgTempC       int64  \n",
            " 7   dest_airport_id    int64  \n",
            " 8   origin_airport_id  int64  \n",
            " 9   tail_num           int64  \n",
            " 10  distance           int64  \n",
            " 11  crs_dep_time       int64  \n",
            " 12  arr_delay          float64\n",
            "dtypes: float64(3), int64(10)\n",
            "memory usage: 276.3 MB\n"
          ]
        }
      ]
    },
    {
      "cell_type": "code",
      "metadata": {
        "colab": {
          "base_uri": "https://localhost:8080/"
        },
        "id": "oITPQI38QbHv",
        "outputId": "9f337eba-cf37-4848-ce16-8d91e794b131"
      },
      "source": [
        "df_test.info()"
      ],
      "execution_count": 4,
      "outputs": [
        {
          "output_type": "stream",
          "name": "stdout",
          "text": [
            "<class 'pandas.core.frame.DataFrame'>\n",
            "Int64Index: 194628 entries, 0 to 194627\n",
            "Data columns (total 12 columns):\n",
            " #   Column             Non-Null Count   Dtype  \n",
            "---  ------             --------------   -----  \n",
            " 0   destPrecipMM       194628 non-null  float64\n",
            " 1   origPrecipMM       194628 non-null  float64\n",
            " 2   dayofweek_num      194628 non-null  int64  \n",
            " 3   origVisibility     194628 non-null  int64  \n",
            " 4   destVisibility     194628 non-null  int64  \n",
            " 5   origAvgTempC       194628 non-null  int64  \n",
            " 6   destAvgTempC       194628 non-null  int64  \n",
            " 7   dest_airport_id    194628 non-null  int64  \n",
            " 8   origin_airport_id  194628 non-null  int64  \n",
            " 9   tail_num           194628 non-null  int64  \n",
            " 10  distance           194628 non-null  int64  \n",
            " 11  crs_dep_time       194628 non-null  int64  \n",
            "dtypes: float64(2), int64(10)\n",
            "memory usage: 19.3 MB\n"
          ]
        }
      ]
    },
    {
      "cell_type": "markdown",
      "metadata": {
        "id": "lgEHKXI_K4IU"
      },
      "source": [
        "# correlation"
      ]
    },
    {
      "cell_type": "code",
      "metadata": {
        "id": "JubcIX09K0fp",
        "colab": {
          "base_uri": "https://localhost:8080/",
          "height": 996
        },
        "outputId": "c9f51859-8a3b-4047-f336-6137343b114e"
      },
      "source": [
        "code_block_name = \"Correlation HeatMap \"\n",
        "dateTimeObj = datetime.now()\n",
        "worksheet.update_cell(gs_row,gs_col,code_block_name)\n",
        "worksheet.update_cell(gs_row,gs_col+1,'Started')\n",
        "worksheet.update_cell(gs_row,gs_col+2,str(dateTimeObj))\n",
        "\n",
        "import pandas as pd\n",
        "import numpy as np\n",
        "import seaborn as sns\n",
        "import matplotlib.pyplot as plt\n",
        "#dfFinal = df[['origwindspeedKmph','dayofweek_num','destwindspeedKmph','destPrecipMM','origPrecipMM','origVisibility','destVisibility','destWeatherCode','origWeatherCode','origAvgTempC','destAvgTempC','dest_airport_id','origin_airport_id','tail_num','distance','crs_elapsed_time',\"crs_dep_time\", \"crs_arr_time\", \"fl_date\", \"origin\", \"dest\", \"arr_delay\"]]\n",
        "\n",
        "corrMatrix = df.corr()\n",
        "\n",
        "# ndf = df.loc[df.max(axis=1) > 0.30, df.max(axis=0) > 0.30]\n",
        "\n",
        "# sns.heatmap(ndf)\n",
        "# plt.show()\n",
        "# sn.set(rc = {'figure.figsize':(10,6)})\n",
        "# sn.heatmap(corrMatrix, annot=False)\n",
        "plt.figure(figsize=(30, 20))\n",
        "mask = np.triu(np.ones_like(corrMatrix, dtype=np.bool))\n",
        "cut_off = 0.05  # only show cells with abs(correlation) at least this value\n",
        "extreme_1 = 0.65  # show with a star\n",
        "extreme_2 = 0.85  # show with a second star\n",
        "extreme_3 = 0.95  # show with a third star\n",
        "mask |= np.abs(corrMatrix) < cut_off\n",
        "corrMatrix = corrMatrix[~mask]  # fill in NaN in the non-desired cells\n",
        "\n",
        "remove_empty_rows_and_cols = True\n",
        "if remove_empty_rows_and_cols:\n",
        "    wanted_cols = np.flatnonzero(np.count_nonzero(~mask, axis=1))\n",
        "    wanted_rows = np.flatnonzero(np.count_nonzero(~mask, axis=0))\n",
        "    corrMatrix = corrMatrix.iloc[wanted_cols, wanted_rows]\n",
        "\n",
        "annot = [[f\"{val:.4f}\"\n",
        "          + ('' if abs(val) < extreme_1 else '\\n★')  # add one star if abs(val) >= extreme_1\n",
        "          + ('' if abs(val) < extreme_2 else '★')  # add an extra star if abs(val) >= extreme_2\n",
        "          + ('' if abs(val) < extreme_3 else '★')  # add yet an extra star if abs(val) >= extreme_3\n",
        "          for val in row] for row in corrMatrix.to_numpy()]\n",
        "heatmap = sns.heatmap(corrMatrix, vmin=-1, vmax=1, annot=annot, fmt='', cmap='BrBG')\n",
        "heatmap.set_title('Correlation Heatmap', fontdict={'fontsize': 18}, pad=16)\n",
        "\n",
        "plt.show()\n",
        "\n",
        "dateTimeObj = datetime.now()\n",
        "worksheet.update_cell(gs_row,gs_col+3,'Finished')\n",
        "worksheet.update_cell(gs_row,gs_col+4,str(dateTimeObj))\n",
        "gs_row += 1\n"
      ],
      "execution_count": 5,
      "outputs": [
        {
          "output_type": "display_data",
          "data": {
            "image/png": "[encoded data removed]",
            "text/plain": [
              "<Figure size 2160x1440 with 2 Axes>"
            ]
          },
          "metadata": {
            "needs_background": "light"
          }
        }
      ]
    },
    {
      "cell_type": "markdown",
      "metadata": {
        "id": "Jvsn9wT2K6Ob"
      },
      "source": [
        "# Distribution\n"
      ]
    },
    {
      "cell_type": "code",
      "metadata": {
        "id": "7fwh87lcTVn7"
      },
      "source": [
        ""
      ],
      "execution_count": 6,
      "outputs": []
    },
    {
      "cell_type": "code",
      "metadata": {
        "id": "pkJlVQfCKxSV",
        "colab": {
          "base_uri": "https://localhost:8080/",
          "height": 677
        },
        "outputId": "3050710c-530e-4da2-9a50-6f5f8339f204"
      },
      "source": [
        "code_block_name = \"Distribution Graph \"\n",
        "dateTimeObj = datetime.now()\n",
        "worksheet.update_cell(gs_row,gs_col,code_block_name)\n",
        "worksheet.update_cell(gs_row,gs_col+1,'Started')\n",
        "worksheet.update_cell(gs_row,gs_col+2,str(dateTimeObj))\n",
        "\n",
        "\n",
        "#histogram to visualize different distributions. \n",
        "#regular, Log, Zoom close to 0, Big zoom close to 0.\n",
        "fig, (ax1, ax2, ax3,ax4,ax5) = plt.subplots(1, 5,figsize=(20, 10))\n",
        "\n",
        "\n",
        "ax1.set_xlabel('time in minutes')\n",
        "ax1.set_ylabel('number of')\n",
        "ax1.set_title('regular')\n",
        "ax1.hist(df['arr_delay'], bins=100)\n",
        "\n",
        "\n",
        "\n",
        "ax2.set_xlabel('time in minutes')\n",
        "ax2.set_ylabel('number of')\n",
        "ax2.set_title('Log')\n",
        "ax2.hist(np.log(df['arr_delay'].clip(1,1000)), bins=100)\n",
        "# to make the model work better, need normal distribution, so think about logging what will be predicted.\n",
        "#Then inverse of the log. take the exponent.  np.exp.  ( order of the delay, minutes, hours, days )\n",
        "\n",
        "#np.exp(log) = arrival delay\n",
        "\n",
        "\n",
        "\n",
        "ax3.set_xlabel('Delay in minutes')\n",
        "ax3.set_ylabel('Number of Flights')\n",
        "ax3.set_title('Zoom around Zero Delay')\n",
        "ax3.hist(df['arr_delay'], bins=100)\n",
        "ax3.set_xlim(-100, 300)\n",
        "fig.suptitle('Flight Delays in minutes', fontsize=30)\n",
        "\n",
        "\n",
        "ax4.set_xlabel('time in minutes')\n",
        "ax4.set_ylabel('number of')\n",
        "ax4.set_title('Bigger Zoom around Zero Delay')\n",
        "ax4.hist(df['arr_delay'], bins=1000)\n",
        "ax4.set_xlim(-50, 50)\n",
        "fig.suptitle('Flight Delays in minutes', fontsize=30)\n",
        "fig.show\n",
        "\n",
        "\n",
        "ax5.set_xlabel('time in minutes')\n",
        "ax5.set_ylabel('number of')\n",
        "ax5.set_title('Bigger Zoom around Zero Delay')\n",
        "ax5.hist(df['arr_delay'], bins=1000)\n",
        "ax5.set_xlim(-50, 50)\n",
        "fig.suptitle('Flight Delays in minutes', fontsize=30)\n",
        "fig.show\n",
        "\n",
        "\n",
        "\n",
        "dateTimeObj = datetime.now()\n",
        "worksheet.update_cell(gs_row,gs_col+3,'Finished')\n",
        "worksheet.update_cell(gs_row,gs_col+4,str(dateTimeObj))\n",
        "gs_row += 1\n"
      ],
      "execution_count": 7,
      "outputs": [
        {
          "output_type": "display_data",
          "data": {
            "image/png": "[encoded data removed]",
            "text/plain": [
              "<Figure size 1440x720 with 5 Axes>"
            ]
          },
          "metadata": {
            "needs_background": "light"
          }
        }
      ]
    },
    {
      "cell_type": "code",
      "metadata": {
        "id": "LOq-yV3nVMKV"
      },
      "source": [
        "\n",
        "\n",
        "def train_test_split(df,features_list,target,gs_row,worksheet):\n",
        "    \n",
        "    \n",
        "    from sklearn.model_selection import train_test_split# Import train_test_split function\n",
        "    gs_col =1\n",
        "    code_block_name = \"train_test_split\"\n",
        "    dateTimeObj = datetime.now()\n",
        "    worksheet.update_cell(gs_row,gs_col,code_block_name)\n",
        "    worksheet.update_cell(gs_row,gs_col+1,'Started')\n",
        "    worksheet.update_cell(gs_row,gs_col+2,str(dateTimeObj))\n",
        "\n",
        "    X=df[features_list]  # Features\n",
        "    y=df[target]  # Target\n",
        "    # import statsmodels.api as sm\n",
        "    # X = sm.add_constant(X)\n",
        "    # print(X)\n",
        "    \n",
        "    X_train, X_test, y_train, y_test = train_test_split(X, y, test_size=0.3) # 70% training and 30% test\n",
        "    \n",
        "    dateTimeObj = datetime.now()\n",
        "    worksheet.update_cell(gs_row,gs_col+3,'Finished')\n",
        "    worksheet.update_cell(gs_row,gs_col+4,str(dateTimeObj))\n",
        "    \n",
        "\n",
        "    return X_train, X_test, y_train, y_test\n",
        "\n",
        "def train_model(X_train,y_train,gs_row,worksheet):\n",
        "   \n",
        "    gs_col =1\n",
        "    code_block_name = \"train_model sm.OLS(y_train,X_train)\"\n",
        "    dateTimeObj = datetime.now()\n",
        "    worksheet.update_cell(gs_row,gs_col,code_block_name)\n",
        "    worksheet.update_cell(gs_row,gs_col+1,'Started')\n",
        "    worksheet.update_cell(gs_row,gs_col+2,str(dateTimeObj))\n",
        "   \n",
        "    \n",
        "    import statsmodels.api as sm\n",
        "    print(\"lin_reg = sm.OLS(X_train,y_train)\")\n",
        "    lin_reg = sm.OLS(y_train.astype(float),X_train.astype(float)) #OLS is the most popular.\n",
        "    print(\"model = lin_reg.fit()\")\n",
        "    model = lin_reg.fit()\n",
        "    print(\"print_model = model.summary()\")\n",
        "    print_model = model.summary()\n",
        "    print(print_model)\n",
        "   \n",
        "   \n",
        "    from sklearn.linear_model import LinearRegression\n",
        "   \n",
        "    gs_col =1\n",
        "    code_block_name = \"train_model regressor = LinearRegression()\"\n",
        "    dateTimeObj = datetime.now()\n",
        "    worksheet.update_cell(gs_row,gs_col,code_block_name)\n",
        "    worksheet.update_cell(gs_row,gs_col+1,'Started')\n",
        "    worksheet.update_cell(gs_row,gs_col+2,str(dateTimeObj))\n",
        "\n",
        "    regressor = LinearRegression()\n",
        "    regressor.fit(X_train, y_train)\n",
        "    print(\"regressor.coef_\")\n",
        "    print(regressor.coef_)\n",
        "    print(regressor.score(X_train,y_train))\n",
        "    \n",
        "    gs_col =1\n",
        "    code_block_name = \"train_model  = RandomForestRegressor()\"\n",
        "    dateTimeObj = datetime.now()\n",
        "    worksheet.update_cell(gs_row,gs_col,code_block_name)\n",
        "    worksheet.update_cell(gs_row,gs_col+1,'Started')\n",
        "    worksheet.update_cell(gs_row,gs_col+2,str(dateTimeObj))\n",
        "\n",
        "\n",
        "    from sklearn.ensemble import RandomForestRegressor\n",
        "\n",
        "    model = RandomForestRegressor()\n",
        "    model.fit(X_train, y_train)\n",
        "\n",
        "    dateTimeObj = datetime.now()\n",
        "    worksheet.update_cell(gs_row,gs_col+3,'Finished')\n",
        "    worksheet.update_cell(gs_row,gs_col+4,str(dateTimeObj))\n",
        " \n",
        "\n",
        "    return model\n",
        "\n",
        "\n",
        "def predict_results(model,X_train,gs_row,worksheet):\n",
        "    gs_col =1\n",
        "    code_block_name = \"predict_results\"\n",
        "    dateTimeObj = datetime.now()\n",
        "    worksheet.update_cell(gs_row,gs_col,code_block_name)\n",
        "    worksheet.update_cell(gs_row,gs_col+1,'Started')\n",
        "    worksheet.update_cell(gs_row,gs_col+2,str(dateTimeObj))\n",
        "    \n",
        "    y_pred=model.predict(X_train)\n",
        "    \n",
        "    dateTimeObj = datetime.now()\n",
        "    worksheet.update_cell(gs_row,gs_col+3,'Finished')\n",
        "    worksheet.update_cell(gs_row,gs_col+4,str(dateTimeObj))\n",
        "    \n",
        "\n",
        "    return y_pred\n",
        "\n",
        "def score_this(model,y_train,y_pred,features_list,gs_row,worksheet):\n",
        "    \n",
        "\n",
        "    gs_col =1\n",
        "    #Import scikit-learn metrics module for accuracy calculation\n",
        "    from sklearn.metrics import r2_score\n",
        "    # Model Accuracy, how often is the classifier correct?\n",
        "    ModelAccuracy =(\"Accuracy:\",r2_score(y_train, y_pred))\n",
        "\n",
        "    #Adj_r2 = 1 - (1-r2_score(y_test, y_pred)) * (len(y)-1)/(len(y)-X.shape[1]-1)\n",
        " \n",
        "    import time\n",
        "    import numpy as np\n",
        "    from sklearn import metrics\n",
        "   \n",
        "    Mean_Absolute_Error = metrics.mean_absolute_error(y_train, y_pred)  \n",
        "    Mean_Squared_Error = metrics.mean_squared_error(y_train, y_pred)  \n",
        "    Root_Mean_Squared_Error = np.sqrt(metrics.mean_squared_error(y_train, y_pred))\n",
        "    \n",
        "    print(\"Mean_Absolute_Error\")\n",
        "    print(Mean_Absolute_Error)\n",
        "    print(\"Mean_Squared_Error\")\n",
        "    print(Mean_Absolute_Error)\n",
        "    print(\"Root_Mean_Squared_Error\")\n",
        "    print(Root_Mean_Squared_Error)\n",
        "\n",
        "    worksheet.update_cell(gs_row,gs_col,str(ModelAccuracy))\n",
        "    worksheet.update_cell(gs_row+1,gs_col,str(Mean_Absolute_Error))\n",
        "    worksheet.update_cell(gs_row+2,gs_col,str(Mean_Squared_Error))\n",
        "    worksheet.update_cell(gs_row+3,gs_col,str(Root_Mean_Squared_Error))\n",
        "\n",
        "    worksheet.update_cell(gs_row+4,gs_col,str(len(df)))\n",
        "    worksheet.update_cell(gs_row+5,gs_col,str(list(features_list)))\n",
        "    worksheet.update_cell(gs_row+6,gs_col,str(model.get_params()))\n",
        "    \n",
        "    # Evaluating the Algorithm\n",
        "\n",
        "\n",
        "    start_time = time.time()\n",
        "    importances = model.feature_importances_\n",
        "    std = np.std([\n",
        "        tree.feature_importances_ for tree in model.estimators_], axis=0)\n",
        "    elapsed_time = time.time() - start_time\n",
        "\n",
        "    print(f\"Elapsed time to compute the importances: \"\n",
        "        f\"{elapsed_time:.3f} seconds\")\n",
        "    import pandas as pd\n",
        "    # print(\"features_list.insert(0, 'const')\")\n",
        "    # features_list.insert(0, 'const')  \n",
        "    print(\"NEXT LINE IS forest_importances = pd.Series(importances, index=features_list)\")\n",
        "    print(\" this number of features \" + str(len(features_list)))\n",
        "    forest_importances = pd.Series(importances, index=features_list)\n",
        "    # print(\"features_list.pop(0)\")\n",
        "    # features_list.pop(0)  \n",
        "    fig, ax = plt.subplots()\n",
        "    forest_importances.plot.bar(yerr=std, ax=ax)\n",
        "    ax.set_title(\"Feature importances using MDI\")\n",
        "    ax.set_ylabel(\"Mean decrease in impurity\")\n",
        "    fig.tight_layout()\n",
        "    plt.show()\n",
        "    from sklearn import metrics\n",
        "    #Simple calculation of Adj. R2\n",
        "\n",
        "    from datetime import datetime\n",
        "    \n",
        "    return ModelAccuracy,Mean_Absolute_Error,Mean_Squared_Error,Root_Mean_Squared_Error\n",
        "\n",
        "# def filter_this(df,arr_delay_cutoff,gs_row,worksheet):\n",
        "#     cancelled_filter = (\n",
        "#     (df['cancelled'] !=0) | \n",
        "#     (df['diverted'] !=0 ) | \n",
        "#     (df['arr_delay'] >arr_delay_cutoff )\n",
        "#     )\n",
        "#     df.drop(df[cancelled_filter].index,inplace=True)\n",
        "\n",
        "#     return df"
      ],
      "execution_count": 8,
      "outputs": []
    },
    {
      "cell_type": "code",
      "metadata": {
        "id": "MRogMINhVSqX",
        "colab": {
          "base_uri": "https://localhost:8080/",
          "height": 1000
        },
        "outputId": "310ecf06-9bc8-47b0-a751-398df1d227e3"
      },
      "source": [
        "dateTimeObj = datetime.now()\n",
        "import matplotlib.pyplot as plt\n",
        "import copy\n",
        "\n",
        "\n",
        "\n",
        "filter_forDF_withDelay.remove('arr_delay')\n",
        "features_list_o=filter_forDF_withDelay\n",
        "# features_list_o=['dest_airport_id','origin_airport_id','c_crs_arr_hour','c_crs_dep_hour','dayofweek_num','haul','origwindspeedKmph','destwindspeedKmph','destPrecipMM','origPrecipMM','origVisibility','destVisibility','destWeatherCode','origWeatherCode','origAvgTempC','tail_num']\n",
        "#features_list_o=(['c_crs_arr_hour','c_crs_dep_hour','origwindspeedKmph'])#,'destwindspeedKmph','destPrecipMM','origPrecipMM','origVisibility','destVisibility','dayofweek_num','destWeatherCode','origWeatherCode','tail_num','month'])\n",
        "\n",
        "target=['arr_delay']\n",
        "\n",
        "arr_delay_cutoff_list=150 # The loop will loop thru the different delay types.\n",
        "months_list=[12]\n",
        "\n",
        "wb = gc.open_by_url('https://docs.google.com/spreadsheets/d/1D6jakWCOJjWmntTMr8erIS8zCYGP_WYNPOjRWRgHLCQ/edit#gid=0')\n",
        "\n",
        "#check ça df[~df.country.isin(countries_to_keep)]\n",
        "# df_filter = (\n",
        "# df['month']!=12 #enter the month you want to keep ( applies to both years )\n",
        "# )\n",
        "# df.drop(df[df_filter].index,inplace=True)\n",
        "\n",
        "\n",
        "\n",
        "\n",
        "zone_mtl = pytz.timezone('America/Montreal')\n",
        "date_mtl = datetime.now(zone_mtl)\n",
        "\n",
        "gc = gspread.authorize(GoogleCredentials.get_application_default())\n",
        "wb = gc.open_by_url('https://docs.google.com/spreadsheets/d/1D6jakWCOJjWmntTMr8erIS8zCYGP_WYNPOjRWRgHLCQ/edit#gid=0')\n",
        "tabName = 'Jo-Training-'# Change the name so we can figure out what is what. \n",
        "worksheet = wb.add_worksheet(title=tabName+str(arr_delay_cutoff_list)+\" TS \"+str(date_mtl), rows=\"1000\", cols=\"20\")\n",
        "\n",
        "\n",
        "gs_row = 1 \n",
        "gs_col = 1 \n",
        "print(arr_delay_cutoff_list)\n",
        "\n",
        "features_list = copy.deepcopy(features_list_o)\n",
        "\n",
        "# cancelled_filter = (\n",
        "# # (df['cancelled'] !=0) | \n",
        "# # (df['diverted'] !=0) | \n",
        "# # (df['arr_delay'] >arr_delay_cutoff_list)\n",
        "# )\n",
        "# df.drop(df[cancelled_filter].index,inplace=True)\n",
        "# df = filter_this(df,arr_delay_cutoff_list[i],gs_row,worksheet)\n",
        "\n",
        "dflen=len(df)\n",
        "\n",
        "worksheet.update_cell(gs_row,gs_col,\n",
        "                        'Delay >' + str(arr_delay_cutoff_list))\n",
        "gs_row += 1  \n",
        "worksheet.update_cell(gs_row,gs_col,\n",
        "                        'Month = ' +str(months_list))\n",
        "gs_row += 1  \n",
        "worksheet.update_cell(gs_row,gs_col,\n",
        "                        'DF number of rows ' + str(dflen))\n",
        "gs_row += 1 \n",
        "\n",
        "             \n",
        "\n",
        "\n",
        "wb = gc.open_by_url('https://docs.google.com/spreadsheets/d/1D6jakWCOJjWmntTMr8erIS8zCYGP_WYNPOjRWRgHLCQ/edit#gid=0')\n",
        "gs_row += 1  \n",
        "worksheet.update_cell(gs_row,gs_col,\n",
        "                    'Number of features ' + str(len(features_list)))\n",
        "gs_row += 1  \n",
        "gc = gspread.authorize(GoogleCredentials.get_application_default())\n",
        "X_train, X_test, y_train, y_test = train_test_split(df,features_list,target,gs_row,worksheet)\n",
        "gs_row += 1 \n",
        "model = train_model(X_train,y_train,gs_row,worksheet)\n",
        "gs_row += 1 \n",
        "y_pred = predict_results(model,df_test,gs_row,worksheet)\n",
        "\n",
        "\n",
        "save_to = '/gdrive/MyDrive/lhl/Mid_Term/y_pred.csv'\n",
        "df.to_csv(save_to)\n",
        "\n",
        "import pickle\n",
        "model_save_name='Testing Model.sav'\n",
        "with open(f\"/gdrive/MyDrive/lhl/Mid_Term/{model_save_name}\", 'wb') as f:\n",
        "    pickle.dump(model, f)\n",
        "    \n",
        "gs_row += 1 \n",
        "ModelAccuracy = score_this(model,y_train,y_pred,features_list,gs_row,worksheet)\n",
        "gs_row += 8\n",
        "    \n",
        "\n",
        "import pickle\n",
        "model_save_name='Testing Model.sav'\n",
        "with open(f\"/gdrive/MyDrive/lhl/Mid_Term/{model_save_name}\", 'wb') as f:\n",
        "    pickle.dump(model, f)\n",
        "\n",
        "\n",
        "\n"
      ],
      "execution_count": 9,
      "outputs": [
        {
          "output_type": "stream",
          "name": "stdout",
          "text": [
            "150\n"
          ]
        },
        {
          "output_type": "stream",
          "name": "stderr",
          "text": [
            "/usr/local/lib/python3.7/dist-packages/statsmodels/tools/_testing.py:19: FutureWarning: pandas.util.testing is deprecated. Use the functions in the public API at pandas.testing instead.\n",
            "  import pandas.util.testing as tm\n"
          ]
        },
        {
          "output_type": "stream",
          "name": "stdout",
          "text": [
            "lin_reg = sm.OLS(X_train,y_train)\n",
            "model = lin_reg.fit()\n",
            "print_model = model.summary()\n",
            "                                 OLS Regression Results                                \n",
            "=======================================================================================\n",
            "Dep. Variable:              arr_delay   R-squared (uncentered):                   0.036\n",
            "Model:                            OLS   Adj. R-squared (uncentered):              0.036\n",
            "Method:                 Least Squares   F-statistic:                              5687.\n",
            "Date:                Fri, 22 Oct 2021   Prob (F-statistic):                        0.00\n",
            "Time:                        14:35:06   Log-Likelihood:                     -9.2097e+06\n",
            "No. Observations:             1811001   AIC:                                  1.842e+07\n",
            "Df Residuals:                 1810989   BIC:                                  1.842e+07\n",
            "Df Model:                          12                                                  \n",
            "Covariance Type:            nonrobust                                                  \n",
            "=====================================================================================\n",
            "                        coef    std err          t      P>|t|      [0.025      0.975]\n",
            "-------------------------------------------------------------------------------------\n",
            "destPrecipMM          4.6595      0.056     83.410      0.000       4.550       4.769\n",
            "origPrecipMM          3.9407      0.054     72.421      0.000       3.834       4.047\n",
            "dayofweek_num        -0.3157      0.014    -22.054      0.000      -0.344      -0.288\n",
            "origVisibility       -1.4289      0.016    -89.056      0.000      -1.460      -1.397\n",
            "destVisibility       -1.0682      0.016    -65.836      0.000      -1.100      -1.036\n",
            "origAvgTempC         -0.0228      0.004     -6.022      0.000      -0.030      -0.015\n",
            "destAvgTempC         -0.0488      0.004    -12.923      0.000      -0.056      -0.041\n",
            "dest_airport_id       0.0008    1.6e-05     47.014      0.000       0.001       0.001\n",
            "origin_airport_id     0.0008   1.58e-05     52.658      0.000       0.001       0.001\n",
            "tail_num             -0.0003    1.6e-05    -18.908      0.000      -0.000      -0.000\n",
            "distance             -0.0013   5.08e-05    -25.739      0.000      -0.001      -0.001\n",
            "crs_dep_time          0.0066   5.85e-05    112.202      0.000       0.006       0.007\n",
            "==============================================================================\n",
            "Omnibus:                  1785424.181   Durbin-Watson:                   1.999\n",
            "Prob(Omnibus):                  0.000   Jarque-Bera (JB):        117504466.160\n",
            "Skew:                           4.813   Prob(JB):                         0.00\n",
            "Kurtosis:                      41.270   Cond. No.                     3.62e+04\n",
            "==============================================================================\n",
            "\n",
            "Warnings:\n",
            "[1] Standard Errors assume that the covariance matrix of the errors is correctly specified.\n",
            "[2] The condition number is large, 3.62e+04. This might indicate that there are\n",
            "strong multicollinearity or other numerical problems.\n",
            "regressor.coef_\n",
            "[[ 4.15728792e+00  3.46272199e+00 -3.84135311e-01 -1.73298671e+00\n",
            "  -1.39033492e+00 -1.06626660e-02 -3.86317636e-02  1.82165462e-04\n",
            "   2.52271808e-04 -4.54266732e-04 -1.31908240e-03  6.00140891e-03]]\n",
            "0.03138524876532012\n"
          ]
        },
        {
          "output_type": "stream",
          "name": "stderr",
          "text": [
            "/usr/local/lib/python3.7/dist-packages/ipykernel_launcher.py:75: DataConversionWarning: A column-vector y was passed when a 1d array was expected. Please change the shape of y to (n_samples,), for example using ravel().\n"
          ]
        },
        {
          "output_type": "error",
          "ename": "NameError",
          "evalue": "ignored",
          "traceback": [
            "\u001b[0;31m---------------------------------------------------------------------------\u001b[0m",
            "\u001b[0;31mNameError\u001b[0m                                 Traceback (most recent call last)",
            "\u001b[0;32m<ipython-input-9-a91419d5cfa9>\u001b[0m in \u001b[0;36m<module>\u001b[0;34m()\u001b[0m\n\u001b[1;32m     78\u001b[0m \u001b[0;34m\u001b[0m\u001b[0m\n\u001b[1;32m     79\u001b[0m \u001b[0msave_to\u001b[0m \u001b[0;34m=\u001b[0m \u001b[0;34m'/gdrive/MyDrive/lhl/Mid_Term/y_pred.csv'\u001b[0m\u001b[0;34m\u001b[0m\u001b[0;34m\u001b[0m\u001b[0m\n\u001b[0;32m---> 80\u001b[0;31m \u001b[0mdfFinal\u001b[0m\u001b[0;34m.\u001b[0m\u001b[0mto_csv\u001b[0m\u001b[0;34m(\u001b[0m\u001b[0msave_to\u001b[0m\u001b[0;34m)\u001b[0m\u001b[0;34m\u001b[0m\u001b[0;34m\u001b[0m\u001b[0m\n\u001b[0m\u001b[1;32m     81\u001b[0m \u001b[0;34m\u001b[0m\u001b[0m\n\u001b[1;32m     82\u001b[0m \u001b[0;32mimport\u001b[0m \u001b[0mpickle\u001b[0m\u001b[0;34m\u001b[0m\u001b[0;34m\u001b[0m\u001b[0m\n",
            "\u001b[0;31mNameError\u001b[0m: name 'dfFinal' is not defined"
          ]
        }
      ]
    },
    {
      "cell_type": "code",
      "metadata": {
        "id": "nYexYbFtzPt4"
      },
      "source": [
        ""
      ],
      "execution_count": null,
      "outputs": []
    },
    {
      "cell_type": "markdown",
      "metadata": {
        "id": "oApPeCTYzQR6"
      },
      "source": [
        "# last minute changes\n"
      ]
    },
    {
      "cell_type": "code",
      "metadata": {
        "id": "8PA5i2WjYP9-"
      },
      "source": [
        "\n",
        "save_to = '/gdrive/MyDrive/lhl/Mid_Term/y_pred.csv'\n",
        "df.to_csv(save_to)"
      ],
      "execution_count": 10,
      "outputs": []
    },
    {
      "cell_type": "code",
      "metadata": {
        "id": "dpMZyrlJnWZP"
      },
      "source": [
        "df_test['predicted_delay']=y_pred"
      ],
      "execution_count": 14,
      "outputs": []
    },
    {
      "cell_type": "code",
      "metadata": {
        "id": "x32CQCM7nmLM"
      },
      "source": [
        "\n",
        "save_to = '/gdrive/MyDrive/lhl/Mid_Term/Abir_Jonathan_Flight_Delay_Submission.csv'\n",
        "df_test.to_csv(save_to)"
      ],
      "execution_count": 16,
      "outputs": []
    },
    {
      "cell_type": "code",
      "metadata": {
        "id": "SoJFCjEfkVtf"
      },
      "source": [
        "\n",
        "import pickle\n",
        "model_save_name='Jo Testing Model.sav'\n",
        "with open(f\"/gdrive/MyDrive/lhl/Mid_Term/{model_save_name}\", 'wb') as f:\n",
        "    pickle.dump(model, f)"
      ],
      "execution_count": 17,
      "outputs": []
    },
    {
      "cell_type": "code",
      "metadata": {
        "colab": {
          "base_uri": "https://localhost:8080/"
        },
        "id": "ZLPglRtXkbXg",
        "outputId": "a65bda66-b4c0-414f-9ddf-d42f5bd38bf0"
      },
      "source": [
        ""
      ],
      "execution_count": 12,
      "outputs": [
        {
          "output_type": "stream",
          "name": "stdout",
          "text": [
            "<class 'pandas.core.frame.DataFrame'>\n",
            "Int64Index: 1811001 entries, 2124370 to 1634394\n",
            "Data columns (total 12 columns):\n",
            " #   Column             Dtype  \n",
            "---  ------             -----  \n",
            " 0   destPrecipMM       float64\n",
            " 1   origPrecipMM       float64\n",
            " 2   dayofweek_num      int64  \n",
            " 3   origVisibility     int64  \n",
            " 4   destVisibility     int64  \n",
            " 5   origAvgTempC       int64  \n",
            " 6   destAvgTempC       int64  \n",
            " 7   dest_airport_id    int64  \n",
            " 8   origin_airport_id  int64  \n",
            " 9   tail_num           int64  \n",
            " 10  distance           int64  \n",
            " 11  crs_dep_time       int64  \n",
            "dtypes: float64(2), int64(10)\n",
            "memory usage: 179.6 MB\n"
          ]
        }
      ]
    },
    {
      "cell_type": "code",
      "metadata": {
        "id": "SDrLGwvRqpbe"
      },
      "source": [
        "\n",
        "test_file_path = '/gdrive/MyDrive/lhl/Mid_Term/flights_test_final_df.csv'\n",
        "# df = pd.read_csv(file_path,header=0,skiprows=range(1,6000000),nrows=3000000)\n",
        "\n",
        "df_test2 = pd.read_csv(test_file_path,index_col=0)#"
      ],
      "execution_count": 18,
      "outputs": []
    },
    {
      "cell_type": "code",
      "metadata": {
        "id": "cRmg8wvTqwzB"
      },
      "source": [
        "df_test2['predicted_delay']=y_pred"
      ],
      "execution_count": 20,
      "outputs": []
    },
    {
      "cell_type": "code",
      "metadata": {
        "colab": {
          "base_uri": "https://localhost:8080/"
        },
        "id": "jG_7hpcgtwAV",
        "outputId": "b5d04171-9e61-4b80-8bc1-c770b71c82e4"
      },
      "source": [
        "df_test2.info()"
      ],
      "execution_count": 22,
      "outputs": [
        {
          "output_type": "stream",
          "name": "stdout",
          "text": [
            "<class 'pandas.core.frame.DataFrame'>\n",
            "Int64Index: 194628 entries, 0 to 194627\n",
            "Data columns (total 24 columns):\n",
            " #   Column             Non-Null Count   Dtype  \n",
            "---  ------             --------------   -----  \n",
            " 0   destPrecipMM       194628 non-null  float64\n",
            " 1   origPrecipMM       194628 non-null  float64\n",
            " 2   origVisibility     194628 non-null  int64  \n",
            " 3   destVisibility     194628 non-null  int64  \n",
            " 4   destWeatherCode    194628 non-null  int64  \n",
            " 5   origWeatherCode    194628 non-null  int64  \n",
            " 6   origAvgTempC       194628 non-null  int64  \n",
            " 7   destAvgTempC       194628 non-null  int64  \n",
            " 8   dest_airport_id    194628 non-null  int64  \n",
            " 9   origin_airport_id  194628 non-null  int64  \n",
            " 10  tail_num           194628 non-null  int64  \n",
            " 11  distance           194628 non-null  int64  \n",
            " 12  crs_elapsed_time   194628 non-null  int64  \n",
            " 13  crs_dep_time       194628 non-null  int64  \n",
            " 14  crs_arr_time       194628 non-null  int64  \n",
            " 15  fl_date            194628 non-null  object \n",
            " 16  origin             194628 non-null  int64  \n",
            " 17  dest               194628 non-null  int64  \n",
            " 18  op_unique_carrier  194628 non-null  int64  \n",
            " 19  year               194628 non-null  int64  \n",
            " 20  month              194628 non-null  int64  \n",
            " 21  day                194628 non-null  int64  \n",
            " 22  dayofweek_num      194628 non-null  int64  \n",
            " 23  predicted_delay    194628 non-null  float64\n",
            "dtypes: float64(3), int64(20), object(1)\n",
            "memory usage: 37.1+ MB\n"
          ]
        }
      ]
    },
    {
      "cell_type": "code",
      "metadata": {
        "id": "64PLFoAosemP"
      },
      "source": [
        "df_test2=df_test2[['fl_date','year', 'month', 'day', 'dayofweek_num', 'origin_airport_id','origin','dest_airport_id','dest',\n",
        "       'tail_num','op_unique_carrier', 'destPrecipMM', 'origPrecipMM', 'origVisibility', 'destVisibility',\n",
        "       'destWeatherCode', 'origWeatherCode', 'origAvgTempC', 'destAvgTempC',\n",
        "         'distance',\n",
        "       'crs_elapsed_time', 'crs_dep_time', 'crs_arr_time',   \n",
        "       'predicted_delay']]"
      ],
      "execution_count": 24,
      "outputs": []
    },
    {
      "cell_type": "code",
      "metadata": {
        "id": "QGJXGljrvQvX"
      },
      "source": [
        "df_test2['fl_date']= pd.to_datetime(df_test2['fl_date'])\n"
      ],
      "execution_count": 26,
      "outputs": []
    },
    {
      "cell_type": "code",
      "metadata": {
        "id": "9u0XyrQzvYrP"
      },
      "source": [
        "datefilter = df_test2['fl_date'] <= '2020-01-07'\n",
        "df_test2 = df_test2[datefilter]"
      ],
      "execution_count": 29,
      "outputs": []
    },
    {
      "cell_type": "code",
      "metadata": {
        "colab": {
          "base_uri": "https://localhost:8080/",
          "height": 609
        },
        "id": "7OJayG-lwuQv",
        "outputId": "2d6db6c9-727b-4ca0-87ad-d792180eab06"
      },
      "source": [
        "df_test2"
      ],
      "execution_count": 30,
      "outputs": [
        {
          "output_type": "execute_result",
          "data": {
            "text/html": [
              "<div>\n",
              "<style scoped>\n",
              "    .dataframe tbody tr th:only-of-type {\n",
              "        vertical-align: middle;\n",
              "    }\n",
              "\n",
              "    .dataframe tbody tr th {\n",
              "        vertical-align: top;\n",
              "    }\n",
              "\n",
              "    .dataframe thead th {\n",
              "        text-align: right;\n",
              "    }\n",
              "</style>\n",
              "<table border=\"1\" class=\"dataframe\">\n",
              "  <thead>\n",
              "    <tr style=\"text-align: right;\">\n",
              "      <th></th>\n",
              "      <th>fl_date</th>\n",
              "      <th>year</th>\n",
              "      <th>month</th>\n",
              "      <th>day</th>\n",
              "      <th>dayofweek_num</th>\n",
              "      <th>origin_airport_id</th>\n",
              "      <th>origin</th>\n",
              "      <th>dest_airport_id</th>\n",
              "      <th>dest</th>\n",
              "      <th>tail_num</th>\n",
              "      <th>op_unique_carrier</th>\n",
              "      <th>destPrecipMM</th>\n",
              "      <th>origPrecipMM</th>\n",
              "      <th>origVisibility</th>\n",
              "      <th>destVisibility</th>\n",
              "      <th>destWeatherCode</th>\n",
              "      <th>origWeatherCode</th>\n",
              "      <th>origAvgTempC</th>\n",
              "      <th>destAvgTempC</th>\n",
              "      <th>distance</th>\n",
              "      <th>crs_elapsed_time</th>\n",
              "      <th>crs_dep_time</th>\n",
              "      <th>crs_arr_time</th>\n",
              "      <th>predicted_delay</th>\n",
              "    </tr>\n",
              "  </thead>\n",
              "  <tbody>\n",
              "    <tr>\n",
              "      <th>0</th>\n",
              "      <td>2020-01-01</td>\n",
              "      <td>2020</td>\n",
              "      <td>1</td>\n",
              "      <td>1</td>\n",
              "      <td>2</td>\n",
              "      <td>13891</td>\n",
              "      <td>246</td>\n",
              "      <td>14771</td>\n",
              "      <td>312</td>\n",
              "      <td>5322</td>\n",
              "      <td>4805</td>\n",
              "      <td>0.0</td>\n",
              "      <td>0.0</td>\n",
              "      <td>10</td>\n",
              "      <td>10</td>\n",
              "      <td>116</td>\n",
              "      <td>116</td>\n",
              "      <td>15</td>\n",
              "      <td>13</td>\n",
              "      <td>363</td>\n",
              "      <td>95</td>\n",
              "      <td>1810</td>\n",
              "      <td>1945</td>\n",
              "      <td>4.04</td>\n",
              "    </tr>\n",
              "    <tr>\n",
              "      <th>1</th>\n",
              "      <td>2020-01-01</td>\n",
              "      <td>2020</td>\n",
              "      <td>1</td>\n",
              "      <td>1</td>\n",
              "      <td>2</td>\n",
              "      <td>13891</td>\n",
              "      <td>246</td>\n",
              "      <td>14771</td>\n",
              "      <td>312</td>\n",
              "      <td>2165</td>\n",
              "      <td>1297</td>\n",
              "      <td>0.0</td>\n",
              "      <td>0.0</td>\n",
              "      <td>10</td>\n",
              "      <td>10</td>\n",
              "      <td>116</td>\n",
              "      <td>116</td>\n",
              "      <td>15</td>\n",
              "      <td>13</td>\n",
              "      <td>363</td>\n",
              "      <td>90</td>\n",
              "      <td>1150</td>\n",
              "      <td>1320</td>\n",
              "      <td>24.03</td>\n",
              "    </tr>\n",
              "    <tr>\n",
              "      <th>2</th>\n",
              "      <td>2020-01-01</td>\n",
              "      <td>2020</td>\n",
              "      <td>1</td>\n",
              "      <td>1</td>\n",
              "      <td>2</td>\n",
              "      <td>13891</td>\n",
              "      <td>246</td>\n",
              "      <td>14831</td>\n",
              "      <td>318</td>\n",
              "      <td>3867</td>\n",
              "      <td>3187</td>\n",
              "      <td>0.0</td>\n",
              "      <td>0.0</td>\n",
              "      <td>10</td>\n",
              "      <td>7</td>\n",
              "      <td>143</td>\n",
              "      <td>116</td>\n",
              "      <td>15</td>\n",
              "      <td>12</td>\n",
              "      <td>333</td>\n",
              "      <td>70</td>\n",
              "      <td>2020</td>\n",
              "      <td>2130</td>\n",
              "      <td>11.55</td>\n",
              "    </tr>\n",
              "    <tr>\n",
              "      <th>3</th>\n",
              "      <td>2020-01-01</td>\n",
              "      <td>2020</td>\n",
              "      <td>1</td>\n",
              "      <td>1</td>\n",
              "      <td>2</td>\n",
              "      <td>13891</td>\n",
              "      <td>246</td>\n",
              "      <td>14831</td>\n",
              "      <td>318</td>\n",
              "      <td>2507</td>\n",
              "      <td>1677</td>\n",
              "      <td>0.0</td>\n",
              "      <td>0.0</td>\n",
              "      <td>10</td>\n",
              "      <td>10</td>\n",
              "      <td>122</td>\n",
              "      <td>116</td>\n",
              "      <td>15</td>\n",
              "      <td>12</td>\n",
              "      <td>333</td>\n",
              "      <td>75</td>\n",
              "      <td>1340</td>\n",
              "      <td>1455</td>\n",
              "      <td>17.90</td>\n",
              "    </tr>\n",
              "    <tr>\n",
              "      <th>4</th>\n",
              "      <td>2020-01-01</td>\n",
              "      <td>2020</td>\n",
              "      <td>1</td>\n",
              "      <td>1</td>\n",
              "      <td>2</td>\n",
              "      <td>13891</td>\n",
              "      <td>246</td>\n",
              "      <td>14831</td>\n",
              "      <td>318</td>\n",
              "      <td>5443</td>\n",
              "      <td>4939</td>\n",
              "      <td>0.0</td>\n",
              "      <td>0.0</td>\n",
              "      <td>10</td>\n",
              "      <td>10</td>\n",
              "      <td>116</td>\n",
              "      <td>116</td>\n",
              "      <td>15</td>\n",
              "      <td>12</td>\n",
              "      <td>333</td>\n",
              "      <td>80</td>\n",
              "      <td>915</td>\n",
              "      <td>1035</td>\n",
              "      <td>-6.00</td>\n",
              "    </tr>\n",
              "    <tr>\n",
              "      <th>...</th>\n",
              "      <td>...</td>\n",
              "      <td>...</td>\n",
              "      <td>...</td>\n",
              "      <td>...</td>\n",
              "      <td>...</td>\n",
              "      <td>...</td>\n",
              "      <td>...</td>\n",
              "      <td>...</td>\n",
              "      <td>...</td>\n",
              "      <td>...</td>\n",
              "      <td>...</td>\n",
              "      <td>...</td>\n",
              "      <td>...</td>\n",
              "      <td>...</td>\n",
              "      <td>...</td>\n",
              "      <td>...</td>\n",
              "      <td>...</td>\n",
              "      <td>...</td>\n",
              "      <td>...</td>\n",
              "      <td>...</td>\n",
              "      <td>...</td>\n",
              "      <td>...</td>\n",
              "      <td>...</td>\n",
              "      <td>...</td>\n",
              "    </tr>\n",
              "    <tr>\n",
              "      <th>150618</th>\n",
              "      <td>2020-01-07</td>\n",
              "      <td>2020</td>\n",
              "      <td>1</td>\n",
              "      <td>7</td>\n",
              "      <td>1</td>\n",
              "      <td>11433</td>\n",
              "      <td>99</td>\n",
              "      <td>12478</td>\n",
              "      <td>176</td>\n",
              "      <td>2741</td>\n",
              "      <td>1937</td>\n",
              "      <td>0.0</td>\n",
              "      <td>0.0</td>\n",
              "      <td>10</td>\n",
              "      <td>7</td>\n",
              "      <td>332</td>\n",
              "      <td>122</td>\n",
              "      <td>2</td>\n",
              "      <td>3</td>\n",
              "      <td>509</td>\n",
              "      <td>117</td>\n",
              "      <td>1755</td>\n",
              "      <td>1952</td>\n",
              "      <td>2.45</td>\n",
              "    </tr>\n",
              "    <tr>\n",
              "      <th>150619</th>\n",
              "      <td>2020-01-07</td>\n",
              "      <td>2020</td>\n",
              "      <td>1</td>\n",
              "      <td>7</td>\n",
              "      <td>1</td>\n",
              "      <td>11996</td>\n",
              "      <td>141</td>\n",
              "      <td>12953</td>\n",
              "      <td>196</td>\n",
              "      <td>5022</td>\n",
              "      <td>4472</td>\n",
              "      <td>0.0</td>\n",
              "      <td>0.3</td>\n",
              "      <td>10</td>\n",
              "      <td>10</td>\n",
              "      <td>122</td>\n",
              "      <td>296</td>\n",
              "      <td>8</td>\n",
              "      <td>3</td>\n",
              "      <td>610</td>\n",
              "      <td>119</td>\n",
              "      <td>600</td>\n",
              "      <td>759</td>\n",
              "      <td>41.60</td>\n",
              "    </tr>\n",
              "    <tr>\n",
              "      <th>150620</th>\n",
              "      <td>2020-01-07</td>\n",
              "      <td>2020</td>\n",
              "      <td>1</td>\n",
              "      <td>7</td>\n",
              "      <td>1</td>\n",
              "      <td>10397</td>\n",
              "      <td>20</td>\n",
              "      <td>15919</td>\n",
              "      <td>358</td>\n",
              "      <td>5216</td>\n",
              "      <td>4687</td>\n",
              "      <td>0.0</td>\n",
              "      <td>0.0</td>\n",
              "      <td>10</td>\n",
              "      <td>10</td>\n",
              "      <td>113</td>\n",
              "      <td>113</td>\n",
              "      <td>10</td>\n",
              "      <td>4</td>\n",
              "      <td>589</td>\n",
              "      <td>121</td>\n",
              "      <td>1715</td>\n",
              "      <td>1816</td>\n",
              "      <td>-7.49</td>\n",
              "    </tr>\n",
              "    <tr>\n",
              "      <th>150621</th>\n",
              "      <td>2020-01-07</td>\n",
              "      <td>2020</td>\n",
              "      <td>1</td>\n",
              "      <td>7</td>\n",
              "      <td>1</td>\n",
              "      <td>15919</td>\n",
              "      <td>358</td>\n",
              "      <td>10397</td>\n",
              "      <td>20</td>\n",
              "      <td>5216</td>\n",
              "      <td>4687</td>\n",
              "      <td>0.0</td>\n",
              "      <td>0.0</td>\n",
              "      <td>10</td>\n",
              "      <td>10</td>\n",
              "      <td>113</td>\n",
              "      <td>113</td>\n",
              "      <td>4</td>\n",
              "      <td>10</td>\n",
              "      <td>589</td>\n",
              "      <td>114</td>\n",
              "      <td>1851</td>\n",
              "      <td>2145</td>\n",
              "      <td>2.30</td>\n",
              "    </tr>\n",
              "    <tr>\n",
              "      <th>150622</th>\n",
              "      <td>2020-01-07</td>\n",
              "      <td>2020</td>\n",
              "      <td>1</td>\n",
              "      <td>7</td>\n",
              "      <td>1</td>\n",
              "      <td>14321</td>\n",
              "      <td>283</td>\n",
              "      <td>12953</td>\n",
              "      <td>196</td>\n",
              "      <td>4999</td>\n",
              "      <td>4444</td>\n",
              "      <td>0.0</td>\n",
              "      <td>0.0</td>\n",
              "      <td>10</td>\n",
              "      <td>10</td>\n",
              "      <td>122</td>\n",
              "      <td>116</td>\n",
              "      <td>-2</td>\n",
              "      <td>3</td>\n",
              "      <td>269</td>\n",
              "      <td>101</td>\n",
              "      <td>600</td>\n",
              "      <td>741</td>\n",
              "      <td>-8.62</td>\n",
              "    </tr>\n",
              "  </tbody>\n",
              "</table>\n",
              "<p>150623 rows × 24 columns</p>\n",
              "</div>"
            ],
            "text/plain": [
              "          fl_date  year  month  ...  crs_dep_time  crs_arr_time  predicted_delay\n",
              "0      2020-01-01  2020      1  ...          1810          1945             4.04\n",
              "1      2020-01-01  2020      1  ...          1150          1320            24.03\n",
              "2      2020-01-01  2020      1  ...          2020          2130            11.55\n",
              "3      2020-01-01  2020      1  ...          1340          1455            17.90\n",
              "4      2020-01-01  2020      1  ...           915          1035            -6.00\n",
              "...           ...   ...    ...  ...           ...           ...              ...\n",
              "150618 2020-01-07  2020      1  ...          1755          1952             2.45\n",
              "150619 2020-01-07  2020      1  ...           600           759            41.60\n",
              "150620 2020-01-07  2020      1  ...          1715          1816            -7.49\n",
              "150621 2020-01-07  2020      1  ...          1851          2145             2.30\n",
              "150622 2020-01-07  2020      1  ...           600           741            -8.62\n",
              "\n",
              "[150623 rows x 24 columns]"
            ]
          },
          "metadata": {},
          "execution_count": 30
        }
      ]
    },
    {
      "cell_type": "code",
      "metadata": {
        "id": "whJAX7tjue1I"
      },
      "source": [
        "df_test2['Date']= pd.to_datetime(df_test2['Date'])"
      ],
      "execution_count": null,
      "outputs": []
    },
    {
      "cell_type": "code",
      "metadata": {
        "id": "hgWhGIw1t70z"
      },
      "source": [
        "save_to = '/gdrive/MyDrive/lhl/Mid_Term/Abir_Jonathan_Flight_Delay_Submission_with_fl_dates_Final_v1.csv'\n",
        "df_test2.to_csv(save_to)"
      ],
      "execution_count": 31,
      "outputs": []
    }
  ]
}