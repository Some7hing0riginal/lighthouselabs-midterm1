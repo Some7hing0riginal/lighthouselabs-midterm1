{
  "nbformat": 4,
  "nbformat_minor": 0,
  "metadata": {
    "colab": {
      "name": "Mid Term - Test Data Transformation",
      "provenance": [],
      "collapsed_sections": [],
      "toc_visible": true,
      "machine_shape": "hm",
      "mount_file_id": "17Snj0vWxVdhyiOYabRtxVA6l0oFZlDZZ",
      "authorship_tag": "ABX9TyPrisxVHl2kgm5qVUx+kSiV",
      "include_colab_link": true
    },
    "kernelspec": {
      "display_name": "Python 3",
      "name": "python3"
    },
    "language_info": {
      "name": "python"
    }
  },
  "cells": [
    {
      "cell_type": "markdown",
      "metadata": {
        "id": "view-in-github",
        "colab_type": "text"
      },
      "source": [
        "<a href=\"https://colab.research.google.com/github/Some7hing0riginal/lighthouselabs-midterm1/blob/main/Mid_Term_Test_Data_Transformation.ipynb\" target=\"_parent\"><img src=\"https://colab.research.google.com/assets/colab-badge.svg\" alt=\"Open In Colab\"/></a>"
      ]
    },
    {
      "cell_type": "markdown",
      "metadata": {
        "id": "vHLzbkzbZBCJ"
      },
      "source": [
        "# add polynomial. rigdge "
      ]
    },
    {
      "cell_type": "code",
      "metadata": {
        "colab": {
          "base_uri": "https://localhost:8080/"
        },
        "id": "q2GgY-A_c9YS",
        "outputId": "0eac3e5c-a44f-432c-a1a4-e229cf43a156"
      },
      "source": [
        "import pandas as pd\n",
        "from datetime import datetime\n",
        "import time\n",
        "from sqlalchemy import create_engine\n",
        "import numpy as np\n",
        "from datetime import datetime, timezone\n",
        "import pytz\n",
        "# Google Sheet management\n",
        "from google.colab import drive\n",
        "from google.colab import auth\n",
        "auth.authenticate_user()\n",
        "import gspread\n",
        "from oauth2client.client import GoogleCredentials\n",
        "zone_mtl = pytz.timezone('America/Montreal')\n",
        "date_mtl = datetime.now(zone_mtl)\n",
        "date_mtl"
      ],
      "execution_count": null,
      "outputs": [
        {
          "output_type": "execute_result",
          "data": {
            "text/plain": [
              "datetime.datetime(2021, 10, 21, 18, 5, 35, 295020, tzinfo=<DstTzInfo 'America/Montreal' EDT-1 day, 20:00:00 DST>)"
            ]
          },
          "metadata": {},
          "execution_count": 202
        }
      ]
    },
    {
      "cell_type": "code",
      "metadata": {
        "id": "sp8Mcm7ekWYw"
      },
      "source": [
        ""
      ],
      "execution_count": null,
      "outputs": []
    },
    {
      "cell_type": "markdown",
      "metadata": {
        "id": "v1taCCq00NcI"
      },
      "source": [
        "#@ Google Sheet Management"
      ]
    },
    {
      "cell_type": "markdown",
      "metadata": {
        "id": "TJZj1leaosVQ"
      },
      "source": [
        "# distribution of delays. small, large. Arrival delays and nice uniform delays. "
      ]
    },
    {
      "cell_type": "markdown",
      "metadata": {
        "id": "6BPLBhixmFoy"
      },
      "source": [
        "# load from Google Sheet\n"
      ]
    },
    {
      "cell_type": "code",
      "metadata": {
        "colab": {
          "base_uri": "https://localhost:8080/"
        },
        "id": "ovP11QtLmVVa",
        "outputId": "305f8c15-dac0-4ff2-e44a-a8404a54b08f"
      },
      "source": [
        "from google.colab import drive\n",
        "from google.colab import auth\n",
        "auth.authenticate_user()\n",
        "import gspread\n",
        "from oauth2client.client import GoogleCredentials\n",
        "drive.mount('/gdrive') \n",
        "\n",
        "\n",
        "file_path ='/gdrive/MyDrive/lhl/Mid_Term/flights_tests_filtered.csv'\n",
        "df_test_filtered = pd.read_csv(file_path)#\n",
        "df_test_filtered.info()\n",
        "\n",
        "\n",
        "# save_to = '/gdrive/MyDrive/lhl/Mid_Term/flights_tests_filtered.csv'\n",
        "\n",
        "# df_test_filtered.to_csv(save_to)\n"
      ],
      "execution_count": 79,
      "outputs": [
        {
          "output_type": "stream",
          "name": "stdout",
          "text": [
            "Drive already mounted at /gdrive; to attempt to forcibly remount, call drive.mount(\"/gdrive\", force_remount=True).\n"
          ]
        }
      ]
    },
    {
      "cell_type": "code",
      "metadata": {
        "id": "tP0OVEazjG4K"
      },
      "source": [
        "# for the mapping \n",
        "file_path ='/gdrive/MyDrive/lhl/Mid_Term/flights_18-19_OCT-NOV-DEC.csv'\n",
        "\n",
        "# df = pd.read_csv(file_path,header=0,skiprows=range(1,6000000),nrows=3000000)\n",
        "df_iatacode = pd.read_csv(file_path)#\n",
        "\n"
      ],
      "execution_count": null,
      "outputs": []
    },
    {
      "cell_type": "markdown",
      "metadata": {
        "id": "erPxRaJLyNrB"
      },
      "source": [
        "# Air Port Mapping"
      ]
    },
    {
      "cell_type": "code",
      "metadata": {
        "colab": {
          "base_uri": "https://localhost:8080/"
        },
        "id": "rbUsPGW0ryW5",
        "outputId": "944c9a0c-5085-4300-d7e4-d896da9e53f8"
      },
      "source": [
        "airportMapping = df_test_filtered.groupby(\"origin_airport_id\").first()[\"origin\"]\n",
        "\n",
        "def get_origin_airport_code(self):\n",
        "     origin_airport_iata = int(self['origin_airport_id'])\n",
        "\n",
        "     return airportMapping[origin_airport_iata]\n",
        "\n",
        "\n",
        "df_test_filtered['origin']= df_test_filtered.apply(get_origin_airport_code, axis=1)\n",
        "\n",
        "def get_dest_airport_code(self):\n",
        "     dest_airport_iata = int(self['dest_airport_id'])\n",
        "\n",
        "     return airportMapping[dest_airport_iata]\n",
        "\n",
        "\n",
        "df_test_filtered['dest']= df_test_filtered.apply(get_dest_airport_code, axis=1)\n",
        "df_test_filtered['fl_date'] = df_test_filtered['fl_date'].astype(str)\n"
      ],
      "execution_count": 91,
      "outputs": [
        {
          "output_type": "stream",
          "name": "stderr",
          "text": [
            "/usr/local/lib/python3.7/dist-packages/ipykernel_launcher.py:9: SettingWithCopyWarning: \n",
            "A value is trying to be set on a copy of a slice from a DataFrame.\n",
            "Try using .loc[row_indexer,col_indexer] = value instead\n",
            "\n",
            "See the caveats in the documentation: https://pandas.pydata.org/pandas-docs/stable/user_guide/indexing.html#returning-a-view-versus-a-copy\n",
            "  if __name__ == '__main__':\n",
            "/usr/local/lib/python3.7/dist-packages/ipykernel_launcher.py:17: SettingWithCopyWarning: \n",
            "A value is trying to be set on a copy of a slice from a DataFrame.\n",
            "Try using .loc[row_indexer,col_indexer] = value instead\n",
            "\n",
            "See the caveats in the documentation: https://pandas.pydata.org/pandas-docs/stable/user_guide/indexing.html#returning-a-view-versus-a-copy\n"
          ]
        }
      ]
    },
    {
      "cell_type": "markdown",
      "metadata": {
        "id": "JZnG8xtsxud4"
      },
      "source": [
        "## Weather "
      ]
    },
    {
      "cell_type": "markdown",
      "metadata": {
        "id": "1IAV7BwvmHBc"
      },
      "source": [
        "### Weather from Google Drive\n"
      ]
    },
    {
      "cell_type": "code",
      "metadata": {
        "id": "GXfTsJmnxt21"
      },
      "source": [
        "weather_file_path = '/gdrive/MyDrive/lhl/Mid_Term/weatherDB2019final3.json'\n",
        "import json\n",
        "with open(weather_file_path, 'r') as fp:\n",
        "    weatherDatabase2019 = json.load(fp)\n",
        "    \n",
        "weather_file_path2 = '/gdrive/MyDrive/lhl/Mid_Term/weatherDB2018.json'\n",
        "\n",
        "with open(weather_file_path2, 'r') as fp2:\n",
        "    weatherDatabase2018 = json.load(fp2)\n"
      ],
      "execution_count": 98,
      "outputs": []
    },
    {
      "cell_type": "code",
      "metadata": {
        "id": "RBt_awLRyyR9"
      },
      "source": [
        "weatherDatabase2019[\"DFW\"][\"2019-12-12\"]"
      ],
      "execution_count": null,
      "outputs": []
    },
    {
      "cell_type": "code",
      "metadata": {
        "id": "uUABptQDB3of"
      },
      "source": [
        "weatherDatabase2018[\"DFW\"][\"2018-12-12\"]"
      ],
      "execution_count": null,
      "outputs": []
    },
    {
      "cell_type": "code",
      "metadata": {
        "id": "TqMbeL5-8Pym"
      },
      "source": [
        "WDB = {\"2018\":weatherDatabase2018,\"2019\":weatherDatabase2019,\"2020\":weatherDatabase2019}"
      ],
      "execution_count": 99,
      "outputs": []
    },
    {
      "cell_type": "code",
      "metadata": {
        "colab": {
          "base_uri": "https://localhost:8080/"
        },
        "id": "QbHQArYqy82M",
        "outputId": "e82848af-7013-48ca-9306-24b6ce409a32"
      },
      "source": [
        "def getwindspeedKmphOrig(frame):\n",
        "    depTime = frame[\"crs_dep_time\"]\n",
        "    date = frame[\"fl_date\"] # needs to be strings. \n",
        "    year = date.split('-')[0]\n",
        "    origin = frame[\"origin\"]\n",
        "    depTime = depTime // 100 * 100\n",
        "    if depTime == 2400:\n",
        "        depTime = 2300    \n",
        "    return int(WDB[year][origin][date]['time'][str(depTime)][\"windspeedKmph\"])\n",
        "\n",
        "df_test_filtered[\"origwindspeedKmph\"] = df_test_filtered.apply(getwindspeedKmphOrig, axis=1)\n",
        "\n",
        "def getwindspeedKmphDest(frame):\n",
        "    arrTime = frame[\"crs_arr_time\"]\n",
        "    date = frame[\"fl_date\"] # needs to be strings. \n",
        "    year = date.split('-')[0]\n",
        "    dest = frame[\"dest\"]\n",
        "    arrTime = arrTime // 100 * 100\n",
        "    if arrTime == 2400:\n",
        "        arrTime = 2300  \n",
        "    return int(WDB[year][dest][date]['time'][str(arrTime)][\"windspeedKmph\"])\n",
        "\n",
        "df_test_filtered[\"destwindspeedKmph\"] = df_test_filtered.apply(getwindspeedKmphDest, axis=1)\n",
        "\n",
        "def getTemperatureOrig(frame):\n",
        "    date = frame[\"fl_date\"] # needs to be strings. \n",
        "    origin = frame[\"origin\"]\n",
        "    year = date.split('-')[0]\n",
        "    return int(WDB[year][origin][date][\"avgtempC\"])\n",
        "    \n",
        "df_test_filtered[\"origAvgTempC\"] = df_test_filtered.apply(getTemperatureOrig, axis=1)\n",
        "\n",
        "\n",
        "def getTemperatureDest(frame):\n",
        "    date = frame[\"fl_date\"]\n",
        "    dest = frame[\"dest\"]\n",
        "    year = date.split('-')[0]\n",
        "    return int(WDB[year][dest][date][\"avgtempC\"])\n",
        "\n",
        "df_test_filtered[\"destAvgTempC\"] = df_test_filtered.apply(getTemperatureDest, axis=1)\n",
        "\n",
        "\n",
        "def getWeatherCodeOrig(frame):\n",
        "    depTime = frame[\"crs_dep_time\"]\n",
        "    depTime = depTime // 100 * 100\n",
        "    if depTime == 2400:\n",
        "        depTime = 2300    \n",
        "    date = frame[\"fl_date\"]\n",
        "    orig = frame[\"origin\"]\n",
        "    year = date.split('-')[0]\n",
        "    return WDB[year][orig][date][\"time\"][str(depTime)][\"weatherCode\"]\n",
        "\n",
        "\n",
        "df_test_filtered[\"origWeatherCode\"] = df_test_filtered.apply(getWeatherCodeOrig, axis=1)\n",
        "\n",
        "\n",
        "def getWeatherCodeDest(frame):\n",
        "    arrTime = frame[\"crs_arr_time\"]\n",
        "    arrTime = arrTime // 100 * 100\n",
        "    \n",
        "    if arrTime == 2400:\n",
        "        arrTime = 2300\n",
        "    #We assume arrival date is the same as departure date\n",
        "    date = frame[\"fl_date\"]\n",
        "    dest = frame[\"dest\"]\n",
        "    year = date.split('-')[0]\n",
        "    return WDB[year][dest][date][\"time\"][str(arrTime)][\"weatherCode\"]\n",
        "\n",
        "\n",
        "df_test_filtered[\"destWeatherCode\"] = df_test_filtered.apply(getWeatherCodeDest, axis=1)\n",
        "\n",
        "\n",
        "def getVisibilityDest(frame):\n",
        "    arrTime = frame[\"crs_arr_time\"]\n",
        "    arrTime = arrTime // 100 * 100\n",
        "    if arrTime == 2400:\n",
        "        arrTime = 2300\n",
        "    #We assume arrival date is the same as departure date\n",
        "    date = frame[\"fl_date\"]\n",
        "    dest = frame[\"dest\"]\n",
        "    year = date.split('-')[0]\n",
        "    return int(WDB[year][dest][date][\"time\"][str(arrTime)][\"visibility\"])\n",
        "\n",
        "df_test_filtered[\"destVisibility\"] = df_test_filtered.apply(getVisibilityDest, axis=1)\n",
        "\n",
        "\n",
        "def getVisibilityOrig(frame):\n",
        "    depTime = frame[\"crs_dep_time\"]\n",
        "    depTime = depTime // 100 * 100\n",
        "    if depTime == 2400:\n",
        "        depTime = 2300\n",
        "    #We assume arrival date is the same as departure date\n",
        "    date = frame[\"fl_date\"]\n",
        "    orig = frame[\"origin\"]\n",
        "    year = date.split('-')[0]\n",
        "    return int(WDB[year][orig][date][\"time\"][str(depTime)][\"visibility\"])\n",
        "\n",
        "df_test_filtered[\"origVisibility\"] = df_test_filtered.apply(getVisibilityOrig, axis=1)\n",
        "\n",
        "\n",
        "def getPrecipMMOrig(frame):\n",
        "    depTime = frame[\"crs_dep_time\"]\n",
        "    depTime = depTime // 100 * 100\n",
        "    if depTime == 2400:\n",
        "        depTime = 2300\n",
        "    #We assume arrival date is the same as departure date\n",
        "    date = frame[\"fl_date\"]\n",
        "    orig = frame[\"origin\"]\n",
        "    year = date.split('-')[0]\n",
        "    return float(WDB[year][orig][date][\"time\"][str(depTime)][\"precipMM\"])\n",
        "\n",
        "df_test_filtered[\"origPrecipMM\"] = df_test_filtered.apply(getPrecipMMOrig, axis=1)\n",
        "\n",
        "\n",
        "def getPrecipMMDest(frame):\n",
        "    destTime = frame[\"crs_arr_time\"]\n",
        "    destTime = destTime // 100 * 100\n",
        "    if destTime == 2400:\n",
        "        destTime = 2300\n",
        "    #We assume arrival date is the same as departure date\n",
        "    date = frame[\"fl_date\"]\n",
        "    dest = frame[\"dest\"]\n",
        "    year = date.split('-')[0]\n",
        "    return float(WDB[year][dest][date][\"time\"][str(destTime)][\"precipMM\"])\n",
        "\n",
        "df_test_filtered[\"destPrecipMM\"] = df_test_filtered.apply(getPrecipMMDest, axis=1)\n"
      ],
      "execution_count": 101,
      "outputs": [
        {
          "output_type": "stream",
          "name": "stderr",
          "text": [
            "/usr/local/lib/python3.7/dist-packages/ipykernel_launcher.py:13: SettingWithCopyWarning: \n",
            "A value is trying to be set on a copy of a slice from a DataFrame.\n",
            "Try using .loc[row_indexer,col_indexer] = value instead\n",
            "\n",
            "See the caveats in the documentation: https://pandas.pydata.org/pandas-docs/stable/user_guide/indexing.html#returning-a-view-versus-a-copy\n",
            "  del sys.path[0]\n",
            "/usr/local/lib/python3.7/dist-packages/ipykernel_launcher.py:25: SettingWithCopyWarning: \n",
            "A value is trying to be set on a copy of a slice from a DataFrame.\n",
            "Try using .loc[row_indexer,col_indexer] = value instead\n",
            "\n",
            "See the caveats in the documentation: https://pandas.pydata.org/pandas-docs/stable/user_guide/indexing.html#returning-a-view-versus-a-copy\n",
            "/usr/local/lib/python3.7/dist-packages/ipykernel_launcher.py:33: SettingWithCopyWarning: \n",
            "A value is trying to be set on a copy of a slice from a DataFrame.\n",
            "Try using .loc[row_indexer,col_indexer] = value instead\n",
            "\n",
            "See the caveats in the documentation: https://pandas.pydata.org/pandas-docs/stable/user_guide/indexing.html#returning-a-view-versus-a-copy\n",
            "/usr/local/lib/python3.7/dist-packages/ipykernel_launcher.py:45: SettingWithCopyWarning: \n",
            "A value is trying to be set on a copy of a slice from a DataFrame.\n",
            "Try using .loc[row_indexer,col_indexer] = value instead\n",
            "\n",
            "See the caveats in the documentation: https://pandas.pydata.org/pandas-docs/stable/user_guide/indexing.html#returning-a-view-versus-a-copy\n",
            "/usr/local/lib/python3.7/dist-packages/ipykernel_launcher.py:63: SettingWithCopyWarning: \n",
            "A value is trying to be set on a copy of a slice from a DataFrame.\n",
            "Try using .loc[row_indexer,col_indexer] = value instead\n",
            "\n",
            "See the caveats in the documentation: https://pandas.pydata.org/pandas-docs/stable/user_guide/indexing.html#returning-a-view-versus-a-copy\n",
            "/usr/local/lib/python3.7/dist-packages/ipykernel_launcher.py:79: SettingWithCopyWarning: \n",
            "A value is trying to be set on a copy of a slice from a DataFrame.\n",
            "Try using .loc[row_indexer,col_indexer] = value instead\n",
            "\n",
            "See the caveats in the documentation: https://pandas.pydata.org/pandas-docs/stable/user_guide/indexing.html#returning-a-view-versus-a-copy\n",
            "/usr/local/lib/python3.7/dist-packages/ipykernel_launcher.py:93: SettingWithCopyWarning: \n",
            "A value is trying to be set on a copy of a slice from a DataFrame.\n",
            "Try using .loc[row_indexer,col_indexer] = value instead\n",
            "\n",
            "See the caveats in the documentation: https://pandas.pydata.org/pandas-docs/stable/user_guide/indexing.html#returning-a-view-versus-a-copy\n",
            "/usr/local/lib/python3.7/dist-packages/ipykernel_launcher.py:107: SettingWithCopyWarning: \n",
            "A value is trying to be set on a copy of a slice from a DataFrame.\n",
            "Try using .loc[row_indexer,col_indexer] = value instead\n",
            "\n",
            "See the caveats in the documentation: https://pandas.pydata.org/pandas-docs/stable/user_guide/indexing.html#returning-a-view-versus-a-copy\n",
            "/usr/local/lib/python3.7/dist-packages/ipykernel_launcher.py:121: SettingWithCopyWarning: \n",
            "A value is trying to be set on a copy of a slice from a DataFrame.\n",
            "Try using .loc[row_indexer,col_indexer] = value instead\n",
            "\n",
            "See the caveats in the documentation: https://pandas.pydata.org/pandas-docs/stable/user_guide/indexing.html#returning-a-view-versus-a-copy\n",
            "/usr/local/lib/python3.7/dist-packages/ipykernel_launcher.py:135: SettingWithCopyWarning: \n",
            "A value is trying to be set on a copy of a slice from a DataFrame.\n",
            "Try using .loc[row_indexer,col_indexer] = value instead\n",
            "\n",
            "See the caveats in the documentation: https://pandas.pydata.org/pandas-docs/stable/user_guide/indexing.html#returning-a-view-versus-a-copy\n"
          ]
        }
      ]
    },
    {
      "cell_type": "markdown",
      "metadata": {
        "id": "31OQvEOp_PZ1"
      },
      "source": [
        "# features we want to pass"
      ]
    },
    {
      "cell_type": "code",
      "metadata": {
        "id": "hSnymkEf7vB3"
      },
      "source": [
        "\n",
        "dfFinal = df_test_filtered[['destPrecipMM','origPrecipMM','origVisibility','destVisibility','destWeatherCode','origWeatherCode','origAvgTempC','destAvgTempC','dest_airport_id','origin_airport_id','tail_num','distance','crs_elapsed_time',\"crs_dep_time\", \"crs_arr_time\", \"fl_date\", \"origin\", \"dest\"]]\n"
      ],
      "execution_count": null,
      "outputs": []
    },
    {
      "cell_type": "markdown",
      "metadata": {
        "id": "azT6tciElmkC"
      },
      "source": [
        "# Feature engineering"
      ]
    },
    {
      "cell_type": "code",
      "metadata": {
        "id": "vuLbJVP2tUZZ",
        "colab": {
          "base_uri": "https://localhost:8080/"
        },
        "outputId": "8e280e0a-1aa7-4147-f4fd-714582bded98"
      },
      "source": [
        "#convert fl_date from string to date\n",
        "dfFinal['fl_date'] = pd.to_datetime(dfFinal['fl_date'], format='%Y-%m-%d')\n",
        "#Creating new columns for years n months \n",
        "# df['year'] = pd.DatetimeIndex(df['fl_date']).year\n",
        "# df['month'] = pd.DatetimeIndex(df['fl_date']).month\n",
        "\n",
        "dfFinal['year']=dfFinal['fl_date'].dt.year \n",
        "dfFinal['month']=dfFinal['fl_date'].dt.month \n",
        "dfFinal['day']=dfFinal['fl_date'].dt.day\n",
        "\n",
        "dfFinal['dayofweek_num']=dfFinal['fl_date'].dt.dayofweek\n",
        "list(dfFinal['month'].unique())\n",
        "\n",
        "\n",
        "\n",
        "\n",
        "save_to = '/gdrive/MyDrive/lhl/Mid_Term/flights_test_final_df.csv'\n",
        "\n",
        "dfFinal.to_csv(save_to)"
      ],
      "execution_count": 117,
      "outputs": [
        {
          "output_type": "stream",
          "name": "stderr",
          "text": [
            "/usr/local/lib/python3.7/dist-packages/ipykernel_launcher.py:2: SettingWithCopyWarning: \n",
            "A value is trying to be set on a copy of a slice from a DataFrame.\n",
            "Try using .loc[row_indexer,col_indexer] = value instead\n",
            "\n",
            "See the caveats in the documentation: https://pandas.pydata.org/pandas-docs/stable/user_guide/indexing.html#returning-a-view-versus-a-copy\n",
            "  \n",
            "/usr/local/lib/python3.7/dist-packages/ipykernel_launcher.py:7: SettingWithCopyWarning: \n",
            "A value is trying to be set on a copy of a slice from a DataFrame.\n",
            "Try using .loc[row_indexer,col_indexer] = value instead\n",
            "\n",
            "See the caveats in the documentation: https://pandas.pydata.org/pandas-docs/stable/user_guide/indexing.html#returning-a-view-versus-a-copy\n",
            "  import sys\n",
            "/usr/local/lib/python3.7/dist-packages/ipykernel_launcher.py:8: SettingWithCopyWarning: \n",
            "A value is trying to be set on a copy of a slice from a DataFrame.\n",
            "Try using .loc[row_indexer,col_indexer] = value instead\n",
            "\n",
            "See the caveats in the documentation: https://pandas.pydata.org/pandas-docs/stable/user_guide/indexing.html#returning-a-view-versus-a-copy\n",
            "  \n",
            "/usr/local/lib/python3.7/dist-packages/ipykernel_launcher.py:9: SettingWithCopyWarning: \n",
            "A value is trying to be set on a copy of a slice from a DataFrame.\n",
            "Try using .loc[row_indexer,col_indexer] = value instead\n",
            "\n",
            "See the caveats in the documentation: https://pandas.pydata.org/pandas-docs/stable/user_guide/indexing.html#returning-a-view-versus-a-copy\n",
            "  if __name__ == '__main__':\n",
            "/usr/local/lib/python3.7/dist-packages/ipykernel_launcher.py:11: SettingWithCopyWarning: \n",
            "A value is trying to be set on a copy of a slice from a DataFrame.\n",
            "Try using .loc[row_indexer,col_indexer] = value instead\n",
            "\n",
            "See the caveats in the documentation: https://pandas.pydata.org/pandas-docs/stable/user_guide/indexing.html#returning-a-view-versus-a-copy\n",
            "  # This is added back by InteractiveShellApp.init_path()\n"
          ]
        }
      ]
    }
  ]
}